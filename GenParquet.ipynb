{
 "cells": [
  {
   "cell_type": "markdown",
   "metadata": {},
   "source": [
    "# Generating parquet files"
   ]
  },
  {
   "cell_type": "code",
   "execution_count": null,
   "metadata": {},
   "outputs": [],
   "source": [
    "import uproot\n",
    "import pandas as pd\n",
    "import pyarrow as pa\n",
    "import pyarrow.parquet as pq\n",
    "\n",
    "# Step 1: Read the ROOT file\n",
    "file = uproot.open(\"/Users/gbibim/Here/genparticleZ/Zto2Q-4Jets_HT-400to600.root\")\n",
    "tree = file[\"Events\"]  # Replace \"tree_name\" with the actual name of the tree\n",
    "df = tree.arrays(library=\"pd\")\n",
    "\n",
    "# Step 2: Convert to Pandas DataFrame (if not already in that format)\n",
    "# (This step is implicitly done by the 'arrays' method with 'library=\"pd\"')\n",
    "\n",
    "# Step 3: Write to Parquet file\n",
    "table = pa.Table.from_pandas(df)\n",
    "pq.write_table(table, \"output_file.parquet\")"
   ]
  },
  {
   "cell_type": "code",
   "execution_count": null,
   "metadata": {},
   "outputs": [],
   "source": [
    "table = pq.read_table(\"output_file.parquet\")\n",
    "\n",
    "# Convert to Pandas DataFrame if needed\n",
    "#df = table.to_pandas()\n",
    "\n",
    "#print(df.head())"
   ]
  }
 ],
 "metadata": {
  "language_info": {
   "name": "python"
  }
 },
 "nbformat": 4,
 "nbformat_minor": 2
}
