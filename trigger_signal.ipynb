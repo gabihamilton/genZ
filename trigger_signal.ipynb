{
 "cells": [
  {
   "cell_type": "markdown",
   "metadata": {},
   "source": [
    "# Trigger efficiency study"
   ]
  },
  {
   "cell_type": "code",
   "execution_count": null,
   "metadata": {},
   "outputs": [],
   "source": [
    "import numpy as np\n",
    "import pandas as pd\n",
    "from os import listdir\n",
    "from os.path import exists\n",
    "from typing import Union, List\n",
    "from hist import Hist\n",
    "from hist.intervals import clopper_pearson_interval\n",
    "import vector\n",
    "\n",
    "import matplotlib.pyplot as plt\n",
    "import matplotlib.ticker as mticker\n",
    "import hist\n",
    "import mplhep as hep\n",
    "\n",
    "hep.style.use([\"CMS\", \"firamath\"])\n",
    "\n",
    "formatter = mticker.ScalarFormatter(useMathText=True)\n",
    "formatter.set_powerlimits((-3, 3))\n",
    "plt.rcParams.update({\"font.size\": 12})\n",
    "plt.rcParams[\"lines.linewidth\"] = 2\n",
    "plt.rcParams[\"grid.color\"] = \"#CCCCCC\"\n",
    "plt.rcParams[\"grid.linewidth\"] = 0.5\n",
    "plt.rcParams[\"figure.edgecolor\"] = \"none\"\n",
    "\n",
    "\n",
    "import sys"
   ]
  },
  {
   "cell_type": "code",
   "execution_count": null,
   "metadata": {},
   "outputs": [],
   "source": [
    "\n",
    "def check_selector(sample: str, selector: Union[str, List[str]]):\n",
    "    if isinstance(selector, list) or isinstance(selector, tuple):     # If selector is a list or tuple\n",
    "        \n",
    "        for s in selector:     # Iterate over the list or tuple\n",
    "            if s.startswith(\"*\"):     # If selector starts with '*', check if the rest of the selector is in sample\n",
    "                if s[1:] in sample:\n",
    "                    return True\n",
    "            else:\n",
    "                if sample.startswith(s):\n",
    "                    return True\n",
    "    else:   # If selector is a single string\n",
    "        if selector.startswith(\"*\"):\n",
    "            if selector[1:] in sample:\n",
    "                return True\n",
    "        else:\n",
    "            if sample.startswith(selector):\n",
    "                return True\n",
    "\n",
    "    return False"
   ]
  },
  {
   "cell_type": "code",
   "execution_count": null,
   "metadata": {},
   "outputs": [],
   "source": [
    "# automatically reloads imported files on edits\n",
    "%load_ext autoreload\n",
    "%autoreload 2"
   ]
  },
  {
   "cell_type": "markdown",
   "metadata": {},
   "source": [
    "#### Reading parquets for the samples"
   ]
  },
  {
   "cell_type": "code",
   "execution_count": null,
   "metadata": {},
   "outputs": [],
   "source": [
    "data_dir = \"/Users/gbibim/Here/genZ\"\n",
    "y = \"2022\"\n",
    "samples = {\n",
    "    \"2022\": {\n",
    "        \"Zto2Q-4Jets\": [\"Zto2Q-4Jets_HT-400to600\", \"Zto2Q-4Jets_HT-600to800\", \"Zto2Q-4Jets_HT-800\", \"Zto2Q-4Jets_HT-200to400\"],\n",
    "        \"Zto2Q-2Jets\": [\"Zto2Q-2Jets_PTQQ-100to200_1J\", \"Zto2Q-2Jets_PTQQ-200to400_1J\", \"Zto2Q-2Jets_PTQQ-400to600_1J\", \n",
    "                        \"Zto2Q-2Jets_PTQQ-600_1J\", \"Zto2Q-2Jets_PTQQ-100to200_2J\", \"Zto2Q-2Jets_PTQQ-200to400_2J\", \"Zto2Q-2Jets_PTQQ-400to600_2J\", \"Zto2Q-2Jets_PTQQ-600_2J\" ],\n",
    "    },\n",
    "}[y]  #This is a way to retrieve the dictionary for the year \"2022\" from the dictionary of samples\n",
    "\n",
    "\n",
    "full_samples_list = listdir(f\"{data_dir}/{y}/\") # list of all samples in the directory\n",
    "\n",
    "events_dict = {}\n"
   ]
  },
  {
   "cell_type": "markdown",
   "metadata": {},
   "source": [
    "##### Loading the samples"
   ]
  },
  {
   "cell_type": "code",
   "execution_count": null,
   "metadata": {},
   "outputs": [],
   "source": [
    "for label, selector in samples.items():  #Iterating over the dictionary of samples. Label is the key and selector is the value associated with the key\n",
    "    #label = Zto2Q-4Jets\n",
    "    #selector = Zto2Q-4Jets_HT-400to600, Zto2Q-4Jets_HT-200to400, Zto2Q-4Jets_HT-600\n",
    "\n",
    "    events_dict[label] = {}  # initiates an empty list for the label key in the events_dict dictionary\n",
    "    print(selector)\n",
    "    \n",
    "    for sample in selector:\n",
    "        events_dict[label][sample] = [] \n",
    "        if not check_selector(sample, selector):    # checks if the sample is in the selector list\n",
    "            print(sample)\n",
    "            continue\n",
    "        if not exists(f\"{data_dir}/{y}/{sample}/parquet\"):    #checks if the parquet file exists\n",
    "            print(f\"No parquet file for {sample}\")\n",
    "            continue\n",
    "\n",
    "        events = pd.read_parquet(f\"{data_dir}/{y}/{sample}/parquet\", columns=None)\n",
    "        not_empty = len(events) > 0\n",
    "        if not_empty:\n",
    "            events_dict[label][sample] = events\n",
    "        print(f\"Loaded {sample: <50}: {len(events)} entries\")\n",
    "\n",
    "\n",
    "    # If there are any DataFrames for the current label, concatenate them\n",
    "    #if events_dict[label]:\n",
    "    #    all_events = pd.concat(events_dict[label].values(), ignore_index=True)\n",
    "    #    events_dict[label]['all'] = all_events  # Store the concatenated DataFrame under a special key\n",
    "\n",
    "    # If no data was loaded for the label, delete the entry\n",
    "    if not events_dict[label]:\n",
    "        del events_dict[label]\n",
    "\n",
    "\n"
   ]
  },
  {
   "cell_type": "code",
   "execution_count": null,
   "metadata": {},
   "outputs": [],
   "source": [
    "events"
   ]
  },
  {
   "cell_type": "code",
   "execution_count": null,
   "metadata": {},
   "outputs": [],
   "source": [
    "trigger_dict = {\n",
    "    \"HLTs\": (\n",
    "        [\n",
    "            #\"QuadPFJet70_50_40_35_PFBTagParticleNet_2BTagSum0p65\",\n",
    "            #\"PFHT1050\",\n",
    "\n",
    "            #\"AK8DiPFJet260_260_MassSD30\",\n",
    "            \"AK8DiPFJet250_250_MassSD50\",\n",
    "\n",
    "            #\"AK8PFJet275_SoftDropMass40_PFAK8ParticleNetBB0p35\",\n",
    "            #\"AK8PFJet250_SoftDropMass40_PFAK8ParticleNetBB0p35\",\n",
    "            \"AK8PFJet230_SoftDropMass40_PFAK8ParticleNetBB0p35\",\n",
    "            \n",
    "            #\"AK8PFJet400_SoftDropMass40\",\n",
    "            \"AK8PFJet230_SoftDropMass40\",\n",
    "            #\"AK8PFJet425_SoftDropMass40\",\n",
    "        ],\n",
    "        \"label\",\n",
    "    ),\n",
    "    \n",
    "}"
   ]
  },
  {
   "cell_type": "markdown",
   "metadata": {},
   "source": [
    "#### Fill the histograms"
   ]
  },
  {
   "cell_type": "code",
   "execution_count": null,
   "metadata": {},
   "outputs": [],
   "source": [
    "import hist\n",
    "import numpy as np\n",
    "\n",
    "# Define histogram axes and initialize histograms\n",
    "ht_bins_fine = (25, 200, 2000)\n",
    "zpt_axis = hist.axis.Regular(100, 0, 1000, name=\"pt\", label=r\"Z pT$^0$ [GeV]\")\n",
    "fjpt_axis = hist.axis.Regular(100, 200, 1000, name=\"pt\", label=r\"fj pT$^0$ [GeV]\")\n",
    "sdm_axis = hist.axis.Regular(100, 0, 1000, name=\"SDm\", label=r\"SD mass [GeV]\")\n",
    "cat_axis = hist.axis.StrCategory([], name=\"cat\", growth=True)\n",
    "sample_axis = hist.axis.StrCategory([], name=\"sample_name\", growth=True)\n",
    "process_axis = hist.axis.StrCategory([], name=\"process_name\", growth=True)\n",
    "\n",
    "hpt_fj = hist.Hist(fjpt_axis, cat_axis, sample_axis, process_axis)\n",
    "hpt_z = hist.Hist(zpt_axis, cat_axis, sample_axis, process_axis)\n",
    "hsd = hist.Hist(sdm_axis, cat_axis, sample_axis, process_axis)\n",
    "\n",
    "use_default_weight = False    # If True, the weight is set to 1 for all events\n",
    "\n",
    "# Fill histograms for each sample\n",
    "for label, sample_dict in events_dict.items():\n",
    "    for sample_name, events in sample_dict.items():\n",
    "        pt_z = events[\"GenVPt\"][0]\n",
    "        pt_fj = events[\"ak8FatJetPt\"][0]\n",
    "        SDm_fj = events[\"ak8FatJetmsoftdrop\"][0]\n",
    "        wd = events[\"weight\"][0]\n",
    "        \n",
    "        selection = SDm_fj > 0   #40\n",
    "\n",
    "        # Determine weight to use\n",
    "        weight = 1 if use_default_weight else wd[selection]\n",
    "\n",
    "        # Fill histograms for the sample\n",
    "        hpt_fj.fill(pt=pt_fj[selection], cat=\"denominator\", sample_name=sample_name, process_name=label, weight=weight)\n",
    "        hpt_z.fill(pt=pt_z[selection], cat=\"denominator\", sample_name=sample_name, process_name=label, weight=weight)\n",
    "        hsd.fill(SDm=SDm_fj[selection], cat=\"denominator\", sample_name=sample_name, process_name=label, weight=weight)\n",
    "\n",
    "        # Fill histograms for 'todas' category\n",
    "        hpt_fj.fill(pt=pt_fj, cat=\"denominator\", sample_name=label, process_name=label, weight=wd)\n",
    "        hpt_z.fill(pt=pt_z, cat=\"denominator\", sample_name=label, process_name=label, weight=wd)\n",
    "        hsd.fill(SDm=SDm_fj, cat=\"denominator\", sample_name=label, process_name=label, weight=wd)\n",
    "\n",
    "        # Fill histograms for each trigger category\n",
    "        for trigger_title, (triggers, trigger_label) in trigger_dict.items():\n",
    "            #trigger_selection = np.zeros_like(selection, dtype=bool)\n",
    "            for hlt in triggers:\n",
    "                trigger_selection = np.zeros_like(selection, dtype=bool)\n",
    "                trigger_selection |= (events[hlt].values == 1).squeeze()    #Use bitwise OR (|=) to update trigger_selection to True wherever any trigger condition is met.\n",
    "                                                                            # squeeze() removes any single-dimensional entries from the shape of the array.\n",
    "                num_selection = trigger_selection & selection\n",
    "\n",
    "                weight = 1 if use_default_weight else wd[num_selection]\n",
    "\n",
    "                hpt_fj.fill(pt=pt_fj[num_selection], cat=hlt, sample_name=sample_name, process_name=label, weight=weight)\n",
    "                hpt_z.fill(pt=pt_z[num_selection], cat=hlt, sample_name=sample_name, process_name=label, weight=weight)\n",
    "                hsd.fill(SDm=SDm_fj[num_selection], cat=hlt, sample_name=sample_name, process_name=label, weight=weight)\n",
    "                \n",
    "                hpt_fj.fill(pt=pt_fj[num_selection], cat=hlt, sample_name=label, process_name=label, weight=weight)\n",
    "                hpt_z.fill(pt=pt_z[num_selection], cat=hlt, sample_name=label, process_name=label, weight=weight)\n",
    "                hsd.fill(SDm=SDm_fj[num_selection], cat=hlt, sample_name=label, process_name=label, weight=weight)\n"
   ]
  },
  {
   "cell_type": "markdown",
   "metadata": {},
   "source": [
    "### Plots the denominators"
   ]
  },
  {
   "cell_type": "code",
   "execution_count": 119,
   "metadata": {},
   "outputs": [
    {
     "data": {
      "text/plain": [
       "Text(0.5, 1.0, 'Denominator Comparison')"
      ]
     },
     "execution_count": 119,
     "metadata": {},
     "output_type": "execute_result"
    },
    {
     "data": {
      "image/png": "[encoded data removed]",
      "text/plain": [
       "<Figure size 1000x1000 with 1 Axes>"
      ]
     },
     "metadata": {},
     "output_type": "display_data"
    }
   ],
   "source": [
    "# Plot of the denominator comparing LO to NLO\n",
    "fig, ax = plt.subplots()\n",
    "for label in samples.keys():\n",
    "    hep.histplot(hpt_z[{\"cat\": \"denominator\", \"sample_name\": label, \"process_name\": label}], ax=ax, label=label)\n",
    "ax.legend()\n",
    "plt.title(f\"Denominator Comparison\")\n",
    "#plt.savefig(f\"plots/Zpt_denominator_comparison_withWeights.png\")"
   ]
  },
  {
   "cell_type": "code",
   "execution_count": null,
   "metadata": {},
   "outputs": [],
   "source": [
    "import matplotlib.pyplot as plt\n",
    "import hist\n",
    "\n",
    "def plot_den(hist_to_plot, output_dir, var):\n",
    "    \"\"\"\n",
    "    Plot denominator histograms and save them to files.\n",
    "    \n",
    "    Args:\n",
    "        hist_to_plot (dict): Dictionary of histograms to plot.\n",
    "        output_dir (str): Directory where the plots will be saved.\n",
    "        var (str): Variable name to include in the plot filenames.\n",
    "    \"\"\"\n",
    "    for label, selector in samples.items():\n",
    "        #label = Zto2Q-4Jets\n",
    "        #selector = Zto2Q-4Jets_HT-400to600, Zto2Q-4Jets_HT-200to400, Zto2Q-4Jets_HT-600\n",
    "\n",
    "        # Plot for each sample in selector\n",
    "        fig, ax = plt.subplots()\n",
    "        for i, sample in enumerate(selector):\n",
    "            h = hist_to_plot[{\"cat\": \"denominator\", \"sample_name\": sample, \"process_name\": label}]\n",
    "            hep.histplot(h, ax=ax, label=sample)\n",
    "            total_counts = sum(h.values())\n",
    "            # Position the annotation based on the index to avoid overlap\n",
    "            ax.text(0.95, 0.95 - i*0.05, f'{sample} counts: {total_counts}', \n",
    "                    ha='right', va='top', transform=ax.transAxes, \n",
    "                    bbox=dict(facecolor='white', alpha=0.5))\n",
    "        ax.legend()\n",
    "        plt.title(f\"Denominator Histograms for {label}\")\\\n",
    "        plt.ylabel('Counts')\n",
    "        #plt.savefig(f\"{output_dir}/{var}_denominator_{label}.png\")  # Save the plot as a PNG file\n",
    "        #plt.close(fig)  # Close the figure to free up memory\n",
    "\n",
    "# Define the output directory where plots will be saved\n",
    "output_dir = \"plots\"\n",
    "\n",
    "# Create the output directory if it does not exist\n",
    "import os\n",
    "if not os.path.exists(output_dir):\n",
    "    os.makedirs(output_dir)\n"
   ]
  },
  {
   "cell_type": "code",
   "execution_count": null,
   "metadata": {},
   "outputs": [],
   "source": [
    "# Generate and save plots\n",
    "plot_den(hsd, output_dir, var=\"SDm\")\n",
    "plot_den(hpt_fj, output_dir, var=\"fjpt\")\n",
    "plot_den(hpt_z, output_dir, var=\"zpt\")\n"
   ]
  },
  {
   "cell_type": "markdown",
   "metadata": {},
   "source": [
    "#### Checking the triggers"
   ]
  },
  {
   "cell_type": "code",
   "execution_count": null,
   "metadata": {},
   "outputs": [],
   "source": [
    "# comparing the triggers\n",
    "sample = \"Zto2Q-2Jets_PTQQ-100to200_1J\"\n",
    "label = \"Zto2Q-2Jets\"\n",
    "fig, ax = plt.subplots()    \n",
    "for trigger_title, (triggers, trigger_label) in trigger_dict.items():\n",
    "    for hlt in triggers:\n",
    "        hep.histplot(hpt_z[{\"cat\": hlt, \"sample_name\": sample, \"process_name\": label}], ax=ax, label=hlt)\n",
    "    #hep.histplot(hpt_z[{\"cat\": trigger_title, \"sample_name\": \"Zto2Q-2Jets\", \"process_name\": \"Zto2Q-2Jets\"}], ax=ax, label=trigger_title)\n",
    "\n",
    "ax.legend()"
   ]
  },
  {
   "cell_type": "markdown",
   "metadata": {},
   "source": [
    "### Efficiency"
   ]
  },
  {
   "cell_type": "code",
   "execution_count": null,
   "metadata": {},
   "outputs": [],
   "source": [
    "import matplotlib.pyplot as plt\n",
    "\n",
    "def plot_eff(hist_to_plot, sample, sample_label, output_dir, var):\n",
    "    \"\"\"\n",
    "    Plot triggers efficiency histograms and save them to files.\n",
    "    \n",
    "    Args:\n",
    "        hist_to_plot (dict): Dictionary of histograms to plot.\n",
    "        sample (str): Sample name.  ie. \"Zto2Q-4Jets_HT-400to600\"\n",
    "        sample_label (str): Label for the sample. ie. \"Zto2Q-4Jets\"\n",
    "        output_dir (str): Directory where the plots will be saved.\n",
    "    \"\"\"\n",
    "    fig, ax = plt.subplots(1, 1, figsize=(6, 4))   #efficiency plot\n",
    "\n",
    "    for trigger_title, (triggers, trigger_label) in trigger_dict.items():\n",
    "        for hlt in triggers:\n",
    "            den = hist_to_plot[{\"cat\": \"denominator\", \"sample_name\": sample, \"process_name\": sample_label}]\n",
    "            num = hist_to_plot[{\"cat\": hlt, \"sample_name\": sample, \"process_name\": sample_label}]\n",
    "\n",
    "            num_view = num.view()\n",
    "            den_view = den.view()\n",
    "            \n",
    "            hep.histplot(\n",
    "                num / den,\n",
    "                #yerr=abs((clopper_pearson_interval(num_view, den_view) - num_view) / den_view),\n",
    "                label=hlt,\n",
    "                ax=ax,\n",
    "                flow=\"none\",\n",
    "            )\n",
    "    ax.legend()\n",
    "\n",
    "    ax.set_ylabel(\"Signal Trig. Eff.\")\n",
    "    ax.set_ylim(0, 1)\n",
    "    plt.title(f\"Signal Trigger Efficiency for {sample}\")\n",
    "    \n",
    "    # Save the plot\n",
    "    #plt.savefig(f\"{output_dir}/{var}_signal_trigger_efficiency_{sample}.png\")\n",
    "    #plt.close(fig)\n",
    "\n",
    "# Define the output directory where plots will be saved\n",
    "output_dir = \"plots\"\n",
    "\n",
    "# Create the output directory if it does not exist\n",
    "import os\n",
    "if not os.path.exists(output_dir):\n",
    "    os.makedirs(output_dir)\n",
    "\n"
   ]
  },
  {
   "cell_type": "code",
   "execution_count": null,
   "metadata": {},
   "outputs": [],
   "source": [
    "# Generate and save plots\n",
    "for label, selector in samples.items():\n",
    "    for sample in selector:\n",
    "        plot_eff(hpt_z, sample, label, output_dir, var=\"zpt\")\n",
    "        plot_eff(hsd, sample, label, output_dir, var=\"SDm\")\n",
    "        plot_eff(hpt_fj, sample, label, output_dir, var=\"fjpt\")\n",
    "\n",
    "    plot_eff(hpt_z, label, label, output_dir, var=\"zpt\")\n",
    "    plot_eff(hsd, label, label, output_dir, var=\"SDm\")\n",
    "    plot_eff(hpt_fj, label, label, output_dir, var=\"fjpt\")"
   ]
  },
  {
   "cell_type": "markdown",
   "metadata": {},
   "source": [
    "### 2D hist of FatJetPt and SoftDropMass\n"
   ]
  },
  {
   "cell_type": "code",
   "execution_count": null,
   "metadata": {},
   "outputs": [],
   "source": [
    "import hist\n",
    "import matplotlib.pyplot as plt\n",
    "import numpy as np\n",
    "\n",
    "# Define the axes\n",
    "fjpt_axis = hist.axis.Regular(100, 200, 1000, name=\"pt\", label=r\"fj pT$^0$ [GeV]\")\n",
    "SDm_axis = hist.axis.Regular(100, 0, 300, name=\"SDm\", label=\"Soft Drop Mass [GeV]\")\n",
    "cat_axis = hist.axis.StrCategory([], name=\"cat\", growth=True)\n",
    "sample_axis = hist.axis.StrCategory([], name=\"sample_name\", growth=True)\n",
    "\n",
    "# Create the histogram\n",
    "h2d = hist.Hist(fjpt_axis, SDm_axis, cat_axis, sample_axis)"
   ]
  },
  {
   "cell_type": "code",
   "execution_count": null,
   "metadata": {},
   "outputs": [],
   "source": [
    "# Filling the histogram\n",
    "\n",
    "for label, sample_dict in events_dict.items():\n",
    "    for sample_name, events in sample_dict.items():\n",
    "        #pt_z = events[\"GenVPt\"][0]\n",
    "        pt_fj = events[\"ak8FatJetPt\"][0]\n",
    "        SDm_fj = events[\"ak8FatJetmsoftdrop\"][0]\n",
    "        wd = events[\"weight\"][0]\n",
    "        \n",
    "        selection = SDm_fj > 40\n",
    "\n",
    "        # For separated samples\n",
    "        #h2d.fill(pt=pt_0[selection], cat=\"denominator\", sample_name=sample, weight=wd[selection])\n",
    "        #h2d.fill(pt=pt_0, SDm=SDm_0 cat=\"denominator\", sample_name=sample) #no weight or cuts\n",
    "\n",
    "        #for all samples\n",
    "        h2d.fill(pt=pt_fj, SDm=SDm_fj, cat=\"denominator\", sample_name=label, weight=wd) #no weight or cuts\n",
    "        for trigger_title, (triggers, trigger_label) in trigger_dict.items():\n",
    "            trigger_selection = np.zeros_like(selection)\n",
    "            for hlt in triggers:\n",
    "                trigger_selection |= (events[hlt].values == 1).squeeze()\n",
    "            num_selection = trigger_selection\n",
    "            #hpt.fill(pt=pt_0[num_selection & selection], cat=trigger_title, sample_name=sample, weight=wd[num_selection & selection])\n",
    "            #hpt.fill(pt=pt_0[num_selection & selection], cat=trigger_title, sample_name=\"todas\", weight=wd[num_selection & selection])\n",
    "\n",
    "            #h2d.fill(pt=pt_0[num_selection], SDm=SDm_0[num_selection], cat=trigger_title, sample_name=sample)\n",
    "            h2d.fill(pt=pt_fj[num_selection], SDm=SDm_fj[num_selection], cat=trigger_title, sample_name=label, weight=wd[num_selection])\n"
   ]
  },
  {
   "cell_type": "code",
   "execution_count": null,
   "metadata": {},
   "outputs": [],
   "source": [
    "# Plot the 2D histogram\n",
    "for label, selector in samples.items():\n",
    "    fig, ax = plt.subplots()\n",
    "    hep.hist2dplot(h2d[{\"cat\": \"denominator\", \"sample_name\": label}], ax=ax)\n",
    "    #ax.set_xlabel(\"X-axis Label [units]\")\n",
    "    #ax.set_ylabel(\"Y-axis Label [units]\")\n",
    "    plt.title(f\"FatJet pt vs. SoftDrop mass from {label}\")\n",
    "\n",
    "\n",
    "    plt.savefig(f\"{output_dir}/fjpt_vs_SDM_{label}_withWeight_noselection_notrigger.png\")\n",
    "    plt.show()\n"
   ]
  },
  {
   "cell_type": "code",
   "execution_count": null,
   "metadata": {},
   "outputs": [],
   "source": [
    "for label, selector in samples.items():\n",
    "    fig, ax = plt.subplots()#1, 1, figsize=(6, 4))\n",
    "    for trigger_title, (triggers, trigger_label) in trigger_dict.items():\n",
    "        hep.hist2dplot(h2d[{\"cat\": trigger_title, \"sample_name\": label}], ax=ax, flow=\"none\")\n",
    "        ax.legend()\n",
    "    #leg = ax.legend(fontsize=8, bbox_to_anchor=(1.05, 1), loc=\"upper left\")\n",
    "\n",
    "    plt.title(f\"FatJet pt vs. SofrDrop mass from {label}\")\n",
    "\n",
    "    # Save the plot\n",
    "    plt.savefig(f\"{output_dir}/fjpt_vs_SDm_{label}_withWeight_noselection_withtrigger.png\")\n",
    "    #plt.close(fig)"
   ]
  }
 ],
 "metadata": {
  "kernelspec": {
   "display_name": "coffea-env",
   "language": "python",
   "name": "python3"
  },
  "language_info": {
   "codemirror_mode": {
    "name": "ipython",
    "version": 3
   },
   "file_extension": ".py",
   "mimetype": "text/x-python",
   "name": "python",
   "nbconvert_exporter": "python",
   "pygments_lexer": "ipython3",
   "version": "3.12.2"
  },
  "orig_nbformat": 4
 },
 "nbformat": 4,
 "nbformat_minor": 2
}
